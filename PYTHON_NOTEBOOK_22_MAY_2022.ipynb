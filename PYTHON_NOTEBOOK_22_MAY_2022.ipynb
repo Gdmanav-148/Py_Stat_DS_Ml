{
 "cells": [
  {
   "cell_type": "code",
   "execution_count": null,
   "id": "63138e0d",
   "metadata": {},
   "outputs": [],
   "source": [
    "# keyword - it  is the word that has an special meanning in proghramming."
   ]
  },
  {
   "cell_type": "code",
   "execution_count": null,
   "id": "e42bf664",
   "metadata": {},
   "outputs": [],
   "source": [
    "# in python there is 33 keyword.False      await      else       import     pass\n",
    "#None       break      except     in         raise\n",
    "#True       class      finally    is         return\n",
    "#and        continue   for        lambda     try\n",
    "#as         def        from       nonlocal   while\n",
    "#assert     del        global     not        with\n",
    "#async      elif       if         or         yield"
   ]
  },
  {
   "cell_type": "code",
   "execution_count": 6,
   "id": "42c7a5d3",
   "metadata": {},
   "outputs": [
    {
     "ename": "SyntaxError",
     "evalue": "cannot assign to True (1492599084.py, line 1)",
     "output_type": "error",
     "traceback": [
      "\u001b[1;36m  Input \u001b[1;32mIn [6]\u001b[1;36m\u001b[0m\n\u001b[1;33m    True = 10\u001b[0m\n\u001b[1;37m    ^\u001b[0m\n\u001b[1;31mSyntaxError\u001b[0m\u001b[1;31m:\u001b[0m cannot assign to True\n"
     ]
    }
   ],
   "source": [
    "True = 10 "
   ]
  },
  {
   "cell_type": "code",
   "execution_count": 7,
   "id": "5ea8d0af",
   "metadata": {},
   "outputs": [
    {
     "ename": "SyntaxError",
     "evalue": "cannot assign to False (3009560991.py, line 1)",
     "output_type": "error",
     "traceback": [
      "\u001b[1;36m  Input \u001b[1;32mIn [7]\u001b[1;36m\u001b[0m\n\u001b[1;33m    False = 522\u001b[0m\n\u001b[1;37m    ^\u001b[0m\n\u001b[1;31mSyntaxError\u001b[0m\u001b[1;31m:\u001b[0m cannot assign to False\n"
     ]
    }
   ],
   "source": [
    "False = 522"
   ]
  },
  {
   "cell_type": "code",
   "execution_count": null,
   "id": "164a5a0e",
   "metadata": {},
   "outputs": [],
   "source": [
    "## literal = string,character,number{int,floot,complex},special"
   ]
  },
  {
   "cell_type": "code",
   "execution_count": null,
   "id": "9dda452e",
   "metadata": {},
   "outputs": [],
   "source": [
    "# string - collectioin of character\n",
    "'i am indian'"
   ]
  },
  {
   "cell_type": "code",
   "execution_count": 8,
   "id": "fcbd2003",
   "metadata": {},
   "outputs": [
    {
     "data": {
      "text/plain": [
       "int"
      ]
     },
     "execution_count": 8,
     "metadata": {},
     "output_type": "execute_result"
    }
   ],
   "source": [
    "type(10)"
   ]
  },
  {
   "cell_type": "code",
   "execution_count": 9,
   "id": "64b5b2c9",
   "metadata": {},
   "outputs": [
    {
     "ename": "NameError",
     "evalue": "name 'a' is not defined",
     "output_type": "error",
     "traceback": [
      "\u001b[1;31m---------------------------------------------------------------------------\u001b[0m",
      "\u001b[1;31mNameError\u001b[0m                                 Traceback (most recent call last)",
      "Input \u001b[1;32mIn [9]\u001b[0m, in \u001b[0;36m<cell line: 1>\u001b[1;34m()\u001b[0m\n\u001b[1;32m----> 1\u001b[0m \u001b[38;5;28mtype\u001b[39m(\u001b[43ma\u001b[49m)\n",
      "\u001b[1;31mNameError\u001b[0m: name 'a' is not defined"
     ]
    }
   ],
   "source": [
    "type(a)"
   ]
  },
  {
   "cell_type": "code",
   "execution_count": 10,
   "id": "051dae9f",
   "metadata": {},
   "outputs": [
    {
     "data": {
      "text/plain": [
       "str"
      ]
     },
     "execution_count": 10,
     "metadata": {},
     "output_type": "execute_result"
    }
   ],
   "source": [
    "type(\"i am indian\")"
   ]
  },
  {
   "cell_type": "code",
   "execution_count": 11,
   "id": "6a470c7a",
   "metadata": {},
   "outputs": [
    {
     "data": {
      "text/plain": [
       "str"
      ]
     },
     "execution_count": 11,
     "metadata": {},
     "output_type": "execute_result"
    }
   ],
   "source": [
    "type (\"i am from patna\")"
   ]
  },
  {
   "cell_type": "code",
   "execution_count": null,
   "id": "954e7ee6",
   "metadata": {},
   "outputs": [],
   "source": [
    "# Numbers "
   ]
  },
  {
   "cell_type": "code",
   "execution_count": null,
   "id": "b48bdef6",
   "metadata": {},
   "outputs": [],
   "source": [
    "## Integers "
   ]
  },
  {
   "cell_type": "code",
   "execution_count": null,
   "id": "1942be20",
   "metadata": {},
   "outputs": [],
   "source": [
    "## Float "
   ]
  },
  {
   "cell_type": "code",
   "execution_count": null,
   "id": "35f5cf00",
   "metadata": {},
   "outputs": [],
   "source": []
  },
  {
   "cell_type": "code",
   "execution_count": null,
   "id": "079a38ed",
   "metadata": {},
   "outputs": [],
   "source": []
  },
  {
   "cell_type": "code",
   "execution_count": null,
   "id": "d83ebf78",
   "metadata": {},
   "outputs": [],
   "source": []
  },
  {
   "cell_type": "code",
   "execution_count": null,
   "id": "31a2b319",
   "metadata": {},
   "outputs": [],
   "source": []
  },
  {
   "cell_type": "code",
   "execution_count": null,
   "id": "414dcfbd",
   "metadata": {},
   "outputs": [],
   "source": []
  },
  {
   "cell_type": "code",
   "execution_count": null,
   "id": "e4b30be1",
   "metadata": {},
   "outputs": [],
   "source": []
  }
 ],
 "metadata": {
  "kernelspec": {
   "display_name": "Python 3 (ipykernel)",
   "language": "python",
   "name": "python3"
  },
  "language_info": {
   "codemirror_mode": {
    "name": "ipython",
    "version": 3
   },
   "file_extension": ".py",
   "mimetype": "text/x-python",
   "name": "python",
   "nbconvert_exporter": "python",
   "pygments_lexer": "ipython3",
   "version": "3.9.12"
  }
 },
 "nbformat": 4,
 "nbformat_minor": 5
}
