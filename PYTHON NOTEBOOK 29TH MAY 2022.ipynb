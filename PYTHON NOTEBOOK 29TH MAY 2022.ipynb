{
 "cells": [
  {
   "cell_type": "code",
   "execution_count": 2,
   "id": "666afb94",
   "metadata": {},
   "outputs": [
    {
     "data": {
      "text/plain": [
       "{'A', 'B', 'C'}"
      ]
     },
     "execution_count": 2,
     "metadata": {},
     "output_type": "execute_result"
    }
   ],
   "source": [
    "## Mutabilitty of set\n",
    "\n",
    "# uniqueness\n",
    "st = {'A','B','C','C'}\n",
    "st"
   ]
  },
  {
   "cell_type": "code",
   "execution_count": 24,
   "id": "6a418e86",
   "metadata": {},
   "outputs": [
    {
     "name": "stdout",
     "output_type": "stream",
     "text": [
      "{1, 2, 3, 'B', 'C', 'A', 'INDIA'}\n",
      "{1, 2, 3, 'B', 'A', 'INDIA'}\n"
     ]
    }
   ],
   "source": [
    "## Adding of element\n",
    "st = {'A','B','C',1,2,3}\n",
    "st\n",
    "\n",
    "st.add(\"INDIA\")\n",
    "st\n",
    "\n",
    "## remove element from the set\n",
    "print(st)\n",
    "\n",
    "st.remove('C')\n",
    "print(st)"
   ]
  },
  {
   "cell_type": "code",
   "execution_count": null,
   "id": "4c005642",
   "metadata": {},
   "outputs": [],
   "source": []
  },
  {
   "cell_type": "code",
   "execution_count": 21,
   "id": "20b4f300",
   "metadata": {},
   "outputs": [
    {
     "data": {
      "text/plain": [
       "38291"
      ]
     },
     "execution_count": 21,
     "metadata": {},
     "output_type": "execute_result"
    }
   ],
   "source": [
    "1*2+4+5*9+8+-8+55+5455*7"
   ]
  },
  {
   "cell_type": "code",
   "execution_count": 22,
   "id": "7fce3e44",
   "metadata": {},
   "outputs": [
    {
     "data": {
      "text/plain": [
       "38185"
      ]
     },
     "execution_count": 22,
     "metadata": {},
     "output_type": "execute_result"
    }
   ],
   "source": [
    "5455*7"
   ]
  },
  {
   "cell_type": "code",
   "execution_count": 19,
   "id": "b02b451c",
   "metadata": {},
   "outputs": [
    {
     "name": "stdout",
     "output_type": "stream",
     "text": [
      "<class 'set'>\n",
      "<class 'frozenset'>\n"
     ]
    }
   ],
   "source": [
    "ls = {1,2,3,4,5}\n",
    "print(type(ls))\n",
    "\n",
    "stt = frozenset(ls)\n",
    "print(type(stt))"
   ]
  },
  {
   "cell_type": "code",
   "execution_count": 14,
   "id": "ba8c709d",
   "metadata": {},
   "outputs": [
    {
     "ename": "AttributeError",
     "evalue": "'frozenset' object has no attribute 'add'",
     "output_type": "error",
     "traceback": [
      "\u001b[1;31m---------------------------------------------------------------------------\u001b[0m",
      "\u001b[1;31mAttributeError\u001b[0m                            Traceback (most recent call last)",
      "Input \u001b[1;32mIn [14]\u001b[0m, in \u001b[0;36m<cell line: 2>\u001b[1;34m()\u001b[0m\n\u001b[0;32m      1\u001b[0m \u001b[38;5;66;03m# ADDING ELEMENT TO FROZEEN SET\u001b[39;00m\n\u001b[1;32m----> 2\u001b[0m \u001b[43mstt\u001b[49m\u001b[38;5;241;43m.\u001b[39;49m\u001b[43madd\u001b[49m(\u001b[38;5;241m100\u001b[39m)\n",
      "\u001b[1;31mAttributeError\u001b[0m: 'frozenset' object has no attribute 'add'"
     ]
    }
   ],
   "source": [
    "# ADDING ELEMENT TO FROZEEN SET\n",
    "stt.add(100)"
   ]
  },
  {
   "cell_type": "code",
   "execution_count": 25,
   "id": "8e8062a6",
   "metadata": {},
   "outputs": [
    {
     "ename": "AttributeError",
     "evalue": "'frozenset' object has no attribute 'remove'",
     "output_type": "error",
     "traceback": [
      "\u001b[1;31m---------------------------------------------------------------------------\u001b[0m",
      "\u001b[1;31mAttributeError\u001b[0m                            Traceback (most recent call last)",
      "Input \u001b[1;32mIn [25]\u001b[0m, in \u001b[0;36m<cell line: 2>\u001b[1;34m()\u001b[0m\n\u001b[0;32m      1\u001b[0m \u001b[38;5;66;03m## Remove element from a set\u001b[39;00m\n\u001b[1;32m----> 2\u001b[0m \u001b[43mstt\u001b[49m\u001b[38;5;241;43m.\u001b[39;49m\u001b[43mremove\u001b[49m(\u001b[38;5;241m3\u001b[39m)\n",
      "\u001b[1;31mAttributeError\u001b[0m: 'frozenset' object has no attribute 'remove'"
     ]
    }
   ],
   "source": [
    "## Remove element from a set\n",
    "stt.remove(3)"
   ]
  },
  {
   "cell_type": "code",
   "execution_count": null,
   "id": "d6f9e7c6",
   "metadata": {},
   "outputs": [],
   "source": [
    "## Feature of the set\n",
    "# Unique value\n",
    "# Unordered : There is no order in the set\n",
    "# Mutable : You can add and removeelement of the set."
   ]
  },
  {
   "cell_type": "code",
   "execution_count": null,
   "id": "060e7c12",
   "metadata": {},
   "outputs": [],
   "source": [
    "##Frozenset = feature of set + Feature of tuple\n",
    "# Uniqueness : No duplicate\n",
    "#unordered :order in a fronset is meaningless\n",
    "# Immutable : YOU CANNOT CHANGE THE FROZEN SET ONCE IT IS CREATED."
   ]
  },
  {
   "cell_type": "code",
   "execution_count": 26,
   "id": "efe72f3a",
   "metadata": {},
   "outputs": [
    {
     "data": {
      "text/plain": [
       "(1, 2, 3, 'A', 'B', 'C', 'India', 3, 2, 4, 5)"
      ]
     },
     "execution_count": 26,
     "metadata": {},
     "output_type": "execute_result"
    }
   ],
   "source": [
    "## Replace\n",
    "ls = (1,2,3,'A','B','C','India',3,2,4,5)\n",
    "ls"
   ]
  },
  {
   "cell_type": "code",
   "execution_count": 29,
   "id": "69e58431",
   "metadata": {},
   "outputs": [
    {
     "data": {
      "text/plain": [
       "()"
      ]
     },
     "execution_count": 29,
     "metadata": {},
     "output_type": "execute_result"
    }
   ],
   "source": [
    "# indexing not working\n",
    "ls[3:3]  "
   ]
  },
  {
   "cell_type": "code",
   "execution_count": 30,
   "id": "68b77707",
   "metadata": {},
   "outputs": [
    {
     "ename": "NameError",
     "evalue": "name 'Image' is not defined",
     "output_type": "error",
     "traceback": [
      "\u001b[1;31m---------------------------------------------------------------------------\u001b[0m",
      "\u001b[1;31mNameError\u001b[0m                                 Traceback (most recent call last)",
      "Input \u001b[1;32mIn [30]\u001b[0m, in \u001b[0;36m<cell line: 5>\u001b[1;34m()\u001b[0m\n\u001b[0;32m      1\u001b[0m \u001b[38;5;66;03m#img = Image.open(path)\t\u001b[39;00m\n\u001b[0;32m      2\u001b[0m \u001b[38;5;66;03m# On successful execution of this statement,\u001b[39;00m\n\u001b[0;32m      3\u001b[0m \u001b[38;5;66;03m# an object of Image type is returned and stored in img variable)\u001b[39;00m\n\u001b[0;32m      5\u001b[0m \u001b[38;5;28;01mtry\u001b[39;00m:\n\u001b[1;32m----> 6\u001b[0m \timg \u001b[38;5;241m=\u001b[39m \u001b[43mImage\u001b[49m\u001b[38;5;241m.\u001b[39mopen(path)\n\u001b[0;32m      7\u001b[0m \u001b[38;5;28;01mexcept\u001b[39;00m \u001b[38;5;167;01mIOError\u001b[39;00m:\n\u001b[0;32m      8\u001b[0m \t\u001b[38;5;28;01mpass\u001b[39;00m\n",
      "\u001b[1;31mNameError\u001b[0m: name 'Image' is not defined"
     ]
    }
   ],
   "source": [
    "#img = Image.open(path)\t\n",
    "# On successful execution of this statement,\n",
    "# an object of Image type is returned and stored in img variable)\n",
    "\n",
    "try:\n",
    "\timg = Image.open(path)\n",
    "except IOError:\n",
    "\tpass\n",
    "# Use the above statement within try block, as it can\n",
    "# raise an IOError if file cannot be found,\n",
    "# or image cannot be opened.\n"
   ]
  },
  {
   "cell_type": "code",
   "execution_count": null,
   "id": "dc102950",
   "metadata": {},
   "outputs": [],
   "source": [
    "## Control flows and function in  python"
   ]
  },
  {
   "cell_type": "code",
   "execution_count": 52,
   "id": "0355bfb2",
   "metadata": {},
   "outputs": [
    {
     "name": "stdout",
     "output_type": "stream",
     "text": [
      "value of x is 10\n",
      "TRUE\n"
     ]
    }
   ],
   "source": [
    "# if\n",
    "\n",
    "x = 10\n",
    "\n",
    "if x==10:\n",
    "    print(\"value of x is 10\")\n",
    "    print(\"TRUE\")\n",
    "else:\n",
    "    print(\"value of x is NOT 10\")\n",
    "    print(\"FALSE\")"
   ]
  },
  {
   "cell_type": "code",
   "execution_count": 66,
   "id": "631a2438",
   "metadata": {},
   "outputs": [
    {
     "name": "stdout",
     "output_type": "stream",
     "text": [
      "x is greater than 100\n"
     ]
    }
   ],
   "source": [
    "# IF ,ELIF,ELSE\n",
    "\n",
    "x = 35245\n",
    "\n",
    "if x > 100:\n",
    "    print (\"x is greater than 100\")\n",
    "elif x < 10:\n",
    "    print(\"x is less than 10\")\n",
    "else:\n",
    "    print(\"x is not greater than 100 and less than 10\")\n",
    "          "
   ]
  },
  {
   "cell_type": "code",
   "execution_count": 63,
   "id": "dc8663d8",
   "metadata": {},
   "outputs": [
    {
     "name": "stdout",
     "output_type": "stream",
     "text": [
      "Number is odd\n"
     ]
    }
   ],
   "source": [
    "## Find a number if its even or odd\n",
    "\n",
    "x = 67867667676768742457\n",
    "\n",
    "if x%2 ==0:\n",
    "    print(\"numberis even\")\n",
    "else:\n",
    "    print(\"Number is odd\")"
   ]
  },
  {
   "cell_type": "code",
   "execution_count": 62,
   "id": "481deecd",
   "metadata": {},
   "outputs": [
    {
     "ename": "SyntaxError",
     "evalue": "invalid syntax (280595737.py, line 5)",
     "output_type": "error",
     "traceback": [
      "\u001b[1;36m  Input \u001b[1;32mIn [62]\u001b[1;36m\u001b[0m\n\u001b[1;33m    ls= [1,2,3,4\"INDIANCOUNTRY\"]\u001b[0m\n\u001b[1;37m                ^\u001b[0m\n\u001b[1;31mSyntaxError\u001b[0m\u001b[1;31m:\u001b[0m invalid syntax\n"
     ]
    }
   ],
   "source": [
    "ls = [1,2,3,4,5]\n",
    "\n",
    "print(len(ls))\n",
    "\n",
    "ls= [1,2,3,4\"INDIANCOUNTRY\"]\n",
    "print(len(ls[4]))\n"
   ]
  },
  {
   "cell_type": "code",
   "execution_count": null,
   "id": "d61ea3e3",
   "metadata": {},
   "outputs": [],
   "source": [
    "ls = []"
   ]
  }
 ],
 "metadata": {
  "kernelspec": {
   "display_name": "Python 3 (ipykernel)",
   "language": "python",
   "name": "python3"
  },
  "language_info": {
   "codemirror_mode": {
    "name": "ipython",
    "version": 3
   },
   "file_extension": ".py",
   "mimetype": "text/x-python",
   "name": "python",
   "nbconvert_exporter": "python",
   "pygments_lexer": "ipython3",
   "version": "3.9.12"
  }
 },
 "nbformat": 4,
 "nbformat_minor": 5
}
